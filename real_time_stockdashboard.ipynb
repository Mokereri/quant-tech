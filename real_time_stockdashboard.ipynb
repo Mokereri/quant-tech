{
 "cells": [
  {
   "cell_type": "code",
   "execution_count": 1,
   "metadata": {},
   "outputs": [],
   "source": [
    "import streamlit as st\n",
    "import plotly.express as px\n",
    "import plotly.graph_objects as go\n",
    "import pandas as pd\n",
    "import yfinance as yf\n",
    "from datetime import datetime, timedelta\n",
    "import pytz\n",
    "import ta\n"
   ]
  },
  {
   "cell_type": "code",
   "execution_count": 2,
   "metadata": {},
   "outputs": [],
   "source": [
    "# Fetch stock data\n",
    "def fetch_stock_data(ticker, period, interval):\n",
    "    end_date = datetime.now()\n",
    "    if period == '1wk':\n",
    "        start_date = end_date - timedelta(days=7)\n",
    "        data = yf.download(ticker, start=start_date, end=end_date, interval=interval)\n",
    "    else:\n",
    "        data = yf.download(ticker, period=period, interval=interval)\n",
    "    return data\n",
    "\n",
    "# Process data to ensure it is in the right format\n",
    "def process_data(data):\n",
    "    if data.index.tzinfo is None:\n",
    "        data.index = data.index.tz_localize('EAT')\n",
    "    data.index = data.index.tz_convert('Kenya')\n",
    "    data.reset_index(inplace=True)\n",
    "    data.rename(columns={'Date': 'Datetime'}, inplace=True)\n",
    "    return data\n",
    "\n",
    "# Compute basic metrics from stock data\n",
    "def calculate_metrics(data):\n",
    "    last_close = data ['close'].iloc[-1]\n",
    "    prev_close = data ['close'].iloc[0]\n",
    "    change = last_close-prev_close\n",
    "    pct_change = (change / last_close)*100\n",
    "    High = data['High'].max()\n",
    "    Low = data['Low'].min()\n",
    "    Volume = data['Volume'].sum()\n",
    "    \n",
    "    return last_close, prev_close, change, pct_change, High, Low, Volume\n"
   ]
  },
  {
   "cell_type": "code",
   "execution_count": 3,
   "metadata": {},
   "outputs": [],
   "source": [
    "# Add Simple Moving Average(SMA) and Eponential Moving Average(EMA) indicators \n",
    "def add_technical_indicators(data):\n",
    "    data['SMA_20'] = ta.trend.sma_indicator(data['close'], window=20)\n",
    "    data['EMA_20'] = ta.trend.sma_indicator(data['close'], window=20)\n",
    "    return data"
   ]
  },
  {
   "cell_type": "code",
   "execution_count": 4,
   "metadata": {},
   "outputs": [
    {
     "name": "stderr",
     "output_type": "stream",
     "text": [
      "2024-08-17 22:39:03.007 \n",
      "  \u001b[33m\u001b[1mWarning:\u001b[0m to view this Streamlit app on a browser, run it with the following\n",
      "  command:\n",
      "\n",
      "    streamlit run C:\\Users\\user\\AppData\\Local\\Packages\\PythonSoftwareFoundation.Python.3.11_qbz5n2kfra8p0\\LocalCache\\local-packages\\Python311\\site-packages\\ipykernel_launcher.py [ARGUMENTS]\n",
      "2024-08-17 22:39:03.029 Session state does not function when running a script without `streamlit run`\n"
     ]
    }
   ],
   "source": [
    "# set up streamlit layout page\n",
    "st.set_page_config(layout='wide')\n",
    "st.title('Real Time Stock Dashboard')\n",
    "\n",
    "# Sidebar user input parameters\n",
    "st.sidebar.header('Chart Parameters')\n",
    "ticker = st.sidebar.text_input('Ticker', 'ADBE')\n",
    "time_period = st.sidebar.selectbox('Time period', ['1d', '1wk', '1mo', '1y', 'max'])\n",
    "chart_type = st.sidebar.selectbox('chart type', ['Candlestick', 'Line'])\n",
    "indicators = st.sidebar.multiselect('Technical Indicators', ['SMA 20', 'EMA 20'])\n",
    "\n",
    "# Mapping time periods to data intervals\n",
    "interval_mapping = {\n",
    "    '1d': '1m',\n",
    "    '1wk': '30m',\n",
    "    '1mo': '1d',\n",
    "    '1y': '1wk',\n",
    "    'max': '1wk'\n",
    "}\n"
   ]
  },
  {
   "cell_type": "code",
   "execution_count": 5,
   "metadata": {},
   "outputs": [
    {
     "ename": "NameError",
     "evalue": "name 'last_close' is not defined",
     "output_type": "error",
     "traceback": [
      "\u001b[1;31m---------------------------------------------------------------------------\u001b[0m",
      "\u001b[1;31mNameError\u001b[0m                                 Traceback (most recent call last)",
      "Cell \u001b[1;32mIn[5], line 10\u001b[0m\n\u001b[0;32m      7\u001b[0m     last_close, change, pct_change, high, low, volume \u001b[38;5;241m=\u001b[39m calculate_metrics(data)\n\u001b[0;32m      9\u001b[0m \u001b[38;5;66;03m# Display main metrics\u001b[39;00m\n\u001b[1;32m---> 10\u001b[0m st\u001b[38;5;241m.\u001b[39mmetric(label\u001b[38;5;241m=\u001b[39m\u001b[38;5;124mf\u001b[39m\u001b[38;5;124m\"\u001b[39m\u001b[38;5;132;01m{\u001b[39;00mticker\u001b[38;5;132;01m}\u001b[39;00m\u001b[38;5;124m Last Price\u001b[39m\u001b[38;5;124m\"\u001b[39m, value\u001b[38;5;241m=\u001b[39m\u001b[38;5;124mf\u001b[39m\u001b[38;5;124m\"\u001b[39m\u001b[38;5;132;01m{\u001b[39;00m\u001b[43mlast_close\u001b[49m\u001b[38;5;132;01m:\u001b[39;00m\u001b[38;5;124m.2f\u001b[39m\u001b[38;5;132;01m}\u001b[39;00m\u001b[38;5;124m USD\u001b[39m\u001b[38;5;124m\"\u001b[39m, delta\u001b[38;5;241m=\u001b[39m\u001b[38;5;124mf\u001b[39m\u001b[38;5;124m\"\u001b[39m\u001b[38;5;132;01m{\u001b[39;00mchange\u001b[38;5;132;01m:\u001b[39;00m\u001b[38;5;124m.2f\u001b[39m\u001b[38;5;132;01m}\u001b[39;00m\u001b[38;5;124m (\u001b[39m\u001b[38;5;132;01m{\u001b[39;00mpct_change\u001b[38;5;132;01m:\u001b[39;00m\u001b[38;5;124m.2f\u001b[39m\u001b[38;5;132;01m}\u001b[39;00m\u001b[38;5;124m%)\u001b[39m\u001b[38;5;124m\"\u001b[39m)\n\u001b[0;32m     12\u001b[0m col1, col2, col3\u001b[38;5;241m=\u001b[39mst\u001b[38;5;241m.\u001b[39mcolumns(\u001b[38;5;241m3\u001b[39m)\n\u001b[0;32m     13\u001b[0m col1\u001b[38;5;241m.\u001b[39mmetric(\u001b[38;5;124m\"\u001b[39m\u001b[38;5;124mHigh\u001b[39m\u001b[38;5;124m\"\u001b[39m, \u001b[38;5;124mf\u001b[39m\u001b[38;5;124m\"\u001b[39m\u001b[38;5;132;01m{\u001b[39;00mhigh\u001b[38;5;132;01m:\u001b[39;00m\u001b[38;5;124m.2f\u001b[39m\u001b[38;5;132;01m}\u001b[39;00m\u001b[38;5;124m USD\u001b[39m\u001b[38;5;124m\"\u001b[39m)\n",
      "\u001b[1;31mNameError\u001b[0m: name 'last_close' is not defined"
     ]
    }
   ],
   "source": [
    "# Update dashboard based on user input\n",
    "if st.sidebar.button('Update'):\n",
    "    data = fetch_stock_data(ticker, time_period, interval_mapping[time_period])\n",
    "    data = process_data(data)\n",
    "    data = add_technical_indicators(data)\n",
    "    \n",
    "    last_close, change, pct_change, high, low, volume = calculate_metrics(data)\n",
    "\n",
    "# Display main metrics\n",
    "st.metric(label=f\"{ticker} Last Price\", value=f\"{last_close:.2f} USD\", delta=f\"{change:.2f} ({pct_change:.2f}%)\")\n",
    "\n",
    "col1, col2, col3=st.columns(3)\n",
    "col1.metric(\"High\", f\"{high:.2f} USD\")\n",
    "col2.metric(\"Low\", f\"{low:.2f} USD\")\n",
    "col3.metric(\"volume\", f\"{volume:,}\")\n",
    "\n",
    "# Plot stock price chart\n",
    "fig = go.Figure()\n",
    "if chart_type == 'Candlestick':\n",
    "    fig.add_trace(go.Candlestick(x=data['Datetime'],\n",
    "                                 open=data['open'],\n",
    "                                 high=data['high'],\n",
    "                                 low=data['low'],\n",
    "                                 close=data['Close']))\n",
    "else:\n",
    "    fig = px.line(data, x='Datetime', y='Close')\n",
    "\n",
    "st.plotly_chart(fig, use_container_width=True)\n"
   ]
  },
  {
   "cell_type": "code",
   "execution_count": 7,
   "metadata": {},
   "outputs": [
    {
     "ename": "NameError",
     "evalue": "name 'fig' is not defined",
     "output_type": "error",
     "traceback": [
      "\u001b[1;31m---------------------------------------------------------------------------\u001b[0m",
      "\u001b[1;31mNameError\u001b[0m                                 Traceback (most recent call last)",
      "Cell \u001b[1;32mIn[7], line 9\u001b[0m\n\u001b[0;32m      6\u001b[0m         fig\u001b[38;5;241m.\u001b[39madd_trace(go\u001b[38;5;241m.\u001b[39mScatter(x\u001b[38;5;241m=\u001b[39mdata[\u001b[38;5;124m'\u001b[39m\u001b[38;5;124mDatetime\u001b[39m\u001b[38;5;124m'\u001b[39m], y\u001b[38;5;241m=\u001b[39mdata[\u001b[38;5;124m'\u001b[39m\u001b[38;5;124mEMA 20\u001b[39m\u001b[38;5;124m'\u001b[39m], name\u001b[38;5;241m=\u001b[39m[\u001b[38;5;124m'\u001b[39m\u001b[38;5;124mEMA 20\u001b[39m\u001b[38;5;124m'\u001b[39m]))\n\u001b[0;32m      8\u001b[0m \u001b[38;5;66;03m# Format graph\u001b[39;00m\n\u001b[1;32m----> 9\u001b[0m \u001b[43mfig\u001b[49m\u001b[38;5;241m.\u001b[39mupdate_layout(title\u001b[38;5;241m=\u001b[39m\u001b[38;5;124mf\u001b[39m\u001b[38;5;124m'\u001b[39m\u001b[38;5;132;01m{\u001b[39;00mticker\u001b[38;5;132;01m}\u001b[39;00m\u001b[38;5;124m \u001b[39m\u001b[38;5;132;01m{\u001b[39;00mtime_period\u001b[38;5;241m.\u001b[39mupper()\u001b[38;5;132;01m}\u001b[39;00m\u001b[38;5;124m Chart\u001b[39m\u001b[38;5;124m'\u001b[39m,\n\u001b[0;32m     10\u001b[0m                   xaxis_title\u001b[38;5;241m=\u001b[39m\u001b[38;5;124m'\u001b[39m\u001b[38;5;124mTime\u001b[39m\u001b[38;5;124m'\u001b[39m,\n\u001b[0;32m     11\u001b[0m                   yaxis_title\u001b[38;5;241m=\u001b[39m\u001b[38;5;124m'\u001b[39m\u001b[38;5;124mPrice (USD)\u001b[39m\u001b[38;5;124m'\u001b[39m,\n\u001b[0;32m     12\u001b[0m                   height\u001b[38;5;241m=\u001b[39m\u001b[38;5;241m600\u001b[39m)\n\u001b[0;32m     13\u001b[0m st\u001b[38;5;241m.\u001b[39mplotly_chart(fig, use_container_width\u001b[38;5;241m=\u001b[39m\u001b[38;5;28;01mTrue\u001b[39;00m)\n",
      "\u001b[1;31mNameError\u001b[0m: name 'fig' is not defined"
     ]
    }
   ],
   "source": [
    "# Add selected technical indicators to the chart\n",
    "for indicator in indicators:\n",
    "    if indicator == 'SMA 20':\n",
    "        fig.add_trace(go.Scatter(x=data['Datetime'], y=data['SMA 20'], name='SMA 20'))\n",
    "    elif indicator == 'EMA 20':\n",
    "        fig.add_trace(go.Scatter(x=data['Datetime'], y=data['EMA 20'], name=['EMA 20']))\n",
    "\n",
    "# Format graph\n",
    "fig.update_layout(title=f'{ticker} {time_period.upper()} Chart',\n",
    "                  xaxis_title='Time',\n",
    "                  yaxis_title='Price (USD)',\n",
    "                  height=600)\n",
    "st.plotly_chart(fig, use_container_width=True)"
   ]
  },
  {
   "cell_type": "code",
   "execution_count": 8,
   "metadata": {},
   "outputs": [
    {
     "ename": "NameError",
     "evalue": "name 'data' is not defined",
     "output_type": "error",
     "traceback": [
      "\u001b[1;31m---------------------------------------------------------------------------\u001b[0m",
      "\u001b[1;31mNameError\u001b[0m                                 Traceback (most recent call last)",
      "Cell \u001b[1;32mIn[8], line 3\u001b[0m\n\u001b[0;32m      1\u001b[0m \u001b[38;5;66;03m# Display historical data and technical indicators\u001b[39;00m\n\u001b[0;32m      2\u001b[0m st\u001b[38;5;241m.\u001b[39msubheader(\u001b[38;5;124m'\u001b[39m\u001b[38;5;124mHistorical Data\u001b[39m\u001b[38;5;124m'\u001b[39m)\n\u001b[1;32m----> 3\u001b[0m st\u001b[38;5;241m.\u001b[39mdataframe(\u001b[43mdata\u001b[49m[[\u001b[38;5;124m'\u001b[39m\u001b[38;5;124mDatetime\u001b[39m\u001b[38;5;124m'\u001b[39m, \u001b[38;5;124m'\u001b[39m\u001b[38;5;124mOpen\u001b[39m\u001b[38;5;124m'\u001b[39m, \u001b[38;5;124m'\u001b[39m\u001b[38;5;124mHigh\u001b[39m\u001b[38;5;124m'\u001b[39m, \u001b[38;5;124m'\u001b[39m\u001b[38;5;124mLow\u001b[39m\u001b[38;5;124m'\u001b[39m, \u001b[38;5;124m'\u001b[39m\u001b[38;5;124mClose\u001b[39m\u001b[38;5;124m'\u001b[39m, \u001b[38;5;124m'\u001b[39m\u001b[38;5;124mVolume\u001b[39m\u001b[38;5;124m'\u001b[39m]])\n\u001b[0;32m      5\u001b[0m st\u001b[38;5;241m.\u001b[39msubheader(\u001b[38;5;124m'\u001b[39m\u001b[38;5;124mTechnical Indicators\u001b[39m\u001b[38;5;124m'\u001b[39m)\n\u001b[0;32m      6\u001b[0m st\u001b[38;5;241m.\u001b[39mdataframe(data[[\u001b[38;5;124m'\u001b[39m\u001b[38;5;124mDatetime\u001b[39m\u001b[38;5;124m'\u001b[39m, \u001b[38;5;124m'\u001b[39m\u001b[38;5;124mSMA 20\u001b[39m\u001b[38;5;124m'\u001b[39m, \u001b[38;5;124m'\u001b[39m\u001b[38;5;124mEMA 20\u001b[39m\u001b[38;5;124m'\u001b[39m]])\n",
      "\u001b[1;31mNameError\u001b[0m: name 'data' is not defined"
     ]
    }
   ],
   "source": [
    "# Display historical data and technical indicators\n",
    "st.subheader('Historical Data')\n",
    "st.dataframe(data[['Datetime', 'Open', 'High', 'Low', 'Close', 'Volume']])\n",
    "\n",
    "st.subheader('Technical Indicators')\n",
    "st.dataframe(data[['Datetime', 'SMA 20', 'EMA 20']])"
   ]
  },
  {
   "cell_type": "code",
   "execution_count": 9,
   "metadata": {},
   "outputs": [
    {
     "name": "stderr",
     "output_type": "stream",
     "text": [
      "Failed to get ticker 'AAPL' reason: HTTPSConnectionPool(host='fc.yahoo.com', port=443): Max retries exceeded with url: / (Caused by NameResolutionError(\"<urllib3.connection.HTTPSConnection object at 0x000001924247A710>: Failed to resolve 'fc.yahoo.com' ([Errno 11001] getaddrinfo failed)\"))\n",
      "[*********************100%%**********************]  1 of 1 completed\n",
      "\n",
      "1 Failed download:\n",
      "['AAPL']: ConnectionError(MaxRetryError('HTTPSConnectionPool(host=\\'fc.yahoo.com\\', port=443): Max retries exceeded with url: / (Caused by NameResolutionError(\"<urllib3.connection.HTTPSConnection object at 0x0000019242EC79D0>: Failed to resolve \\'fc.yahoo.com\\' ([Errno 11001] getaddrinfo failed)\"))'))\n",
      "Failed to get ticker 'GOOGL' reason: HTTPSConnectionPool(host='fc.yahoo.com', port=443): Max retries exceeded with url: / (Caused by NameResolutionError(\"<urllib3.connection.HTTPSConnection object at 0x0000019242483D90>: Failed to resolve 'fc.yahoo.com' ([Errno 11001] getaddrinfo failed)\"))\n",
      "[*********************100%%**********************]  1 of 1 completed\n",
      "\n",
      "1 Failed download:\n",
      "['GOOGL']: ConnectionError(MaxRetryError('HTTPSConnectionPool(host=\\'fc.yahoo.com\\', port=443): Max retries exceeded with url: / (Caused by NameResolutionError(\"<urllib3.connection.HTTPSConnection object at 0x0000019242F1E050>: Failed to resolve \\'fc.yahoo.com\\' ([Errno 11001] getaddrinfo failed)\"))'))\n",
      "Failed to get ticker 'AMZN' reason: HTTPSConnectionPool(host='fc.yahoo.com', port=443): Max retries exceeded with url: / (Caused by NameResolutionError(\"<urllib3.connection.HTTPSConnection object at 0x00000192424833D0>: Failed to resolve 'fc.yahoo.com' ([Errno 11001] getaddrinfo failed)\"))\n",
      "[*********************100%%**********************]  1 of 1 completed\n",
      "\n",
      "1 Failed download:\n",
      "['AMZN']: ConnectionError(MaxRetryError('HTTPSConnectionPool(host=\\'fc.yahoo.com\\', port=443): Max retries exceeded with url: / (Caused by NameResolutionError(\"<urllib3.connection.HTTPSConnection object at 0x0000019242FEDB90>: Failed to resolve \\'fc.yahoo.com\\' ([Errno 11001] getaddrinfo failed)\"))'))\n",
      "Failed to get ticker 'MSFT' reason: HTTPSConnectionPool(host='fc.yahoo.com', port=443): Max retries exceeded with url: / (Caused by NameResolutionError(\"<urllib3.connection.HTTPSConnection object at 0x0000019242FEFAD0>: Failed to resolve 'fc.yahoo.com' ([Errno 11001] getaddrinfo failed)\"))\n",
      "[*********************100%%**********************]  1 of 1 completed\n",
      "\n",
      "1 Failed download:\n",
      "['MSFT']: ConnectionError(MaxRetryError('HTTPSConnectionPool(host=\\'fc.yahoo.com\\', port=443): Max retries exceeded with url: / (Caused by NameResolutionError(\"<urllib3.connection.HTTPSConnection object at 0x0000019242FC8E50>: Failed to resolve \\'fc.yahoo.com\\' ([Errno 11001] getaddrinfo failed)\"))'))\n"
     ]
    },
    {
     "data": {
      "text/plain": [
       "DeltaGenerator(_root_container=1, _parent=DeltaGenerator())"
      ]
     },
     "execution_count": 9,
     "metadata": {},
     "output_type": "execute_result"
    }
   ],
   "source": [
    "# Real time stock prices \n",
    "st.sidebar.header('Real-Time Stock Prices')\n",
    "stock_symbols = ['AAPL', 'GOOGL', 'AMZN', 'MSFT']\n",
    "for symbol in stock_symbols:\n",
    "    real_time_data = fetch_stock_data(symbol, '1d', '1m')\n",
    "    if not real_time_data.empty:\n",
    "        real_time_data = process_data(real_time_data)\n",
    "        last_price = real_time_data['Close'].iloc[-1]\n",
    "        change = last_price - real_time_data['Open'].iloc[0]\n",
    "        pct_change = (change/real_time_data['Open'].iloc[0]) * 100\n",
    "        st.bar.metric(f\"{symbol}\", f\"{last_price} USD\", f\"{change:.2f} ({pct_change:.2f}%)\")\n",
    "\n",
    "# Information section\n",
    "st.sidebar.subheader('About')\n",
    "st.sidebar.info('This Dashboard Stock data and technical indicators for various time periods')"
   ]
  }
 ],
 "metadata": {
  "kernelspec": {
   "display_name": "Python 3",
   "language": "python",
   "name": "python3"
  },
  "language_info": {
   "codemirror_mode": {
    "name": "ipython",
    "version": 3
   },
   "file_extension": ".py",
   "mimetype": "text/x-python",
   "name": "python",
   "nbconvert_exporter": "python",
   "pygments_lexer": "ipython3",
   "version": "3.11.6"
  }
 },
 "nbformat": 4,
 "nbformat_minor": 2
}
